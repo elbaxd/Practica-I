{
  "nbformat": 4,
  "nbformat_minor": 0,
  "metadata": {
    "colab": {
      "provenance": []
    },
    "kernelspec": {
      "name": "python3",
      "display_name": "Python 3"
    },
    "language_info": {
      "name": "python"
    }
  },
  "cells": [
    {
      "cell_type": "code",
      "source": [
        "%matplotlib inline\n",
        "!pip install igraph\n",
        "\n",
        "import igraph as ig\n",
        "import matplotlib.pyplot as plt"
      ],
      "metadata": {
        "id": "9WiT_HPcsapj"
      },
      "execution_count": null,
      "outputs": []
    },
    {
      "cell_type": "code",
      "execution_count": null,
      "metadata": {
        "id": "sQRPiAA87IWt"
      },
      "outputs": [],
      "source": [
        "# ESQUELETO\n",
        "\n",
        "def CFE(G,F0):\n",
        "    F*= F0\n",
        "    i = 0\n",
        "    while Fi != None:\n",
        "        # Ajustar la demanda total igual a al total supply en cada componente conectado\n",
        "\n",
        "        #Computar los nuevos flujos \n",
        "\n",
        "        # Encontrar el nuevo set de aristas que fallan\n",
        "\n",
        "    return t=i-1 , (F0,...,Ft) , fe(f*t) # Para cada e en las aristas menos las aristas que fallan"
      ]
    },
    {
      "cell_type": "code",
      "source": [
        "def CFEPB(G,F0):\n",
        "    # Se computa A+\n",
        "    F*=0\n",
        "    i=0\n",
        "    while Fi != None:\n",
        "        for arista in Fi:\n",
        "            if arista is a cut-edge: # Lemma 1\n",
        "                delete_edge(arista)\n",
        "                components(G)\n",
        "                # Ajustar la demanda al supply en cada componente\n",
        "              \n",
        "            else:\n",
        "                delete_edge(arista) # Lemma 4\n",
        "                Update A+ s\n",
        "    Compute angles 0 = A^+ P\n",
        "    Compute new flows angulos de fase\n",
        "    find(failed_edges),\n"
        "    return t=i-1, (F0,...,Fi), fe(f*t)"
      ],
      "metadata": {
        "id": "V-F1KL5o5eyv"
      },
      "execution_count": null,
      "outputs": []
    },
    {
      "cell_type": "code",
      "source": [
        "def MVESRB(G,k):\n",
        "    Compute A+\n",
        "    Compute new phase angles  Θ =A^+ P\n",
        "    Compute phase angles flows\n",
        "    Compute r(i,j)= r(e), para todo e=(i,j) de E\n",
        "    # Ordenar las aristas (Sort edges) tal que p<=q si solo si f(ep)r(ep) = f(eq)r(eq)\n",
        "    return e1,e2,...,ek"
      ],
      "metadata": {
        "id": "xTF1gF48Wos6"
      },
      "execution_count": null,
      "outputs": []
    }
  ]
}
