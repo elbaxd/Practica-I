{
  "nbformat": 4,
  "nbformat_minor": 0,
  "metadata": {
    "colab": {
      "provenance": []
    },
    "kernelspec": {
      "name": "python3",
      "display_name": "Python 3"
    },
    "language_info": {
      "name": "python"
    }
  },
  "cells": [
    {
      "cell_type": "code",
      "execution_count": null,
      "metadata": {
        "id": "qDzGbPqXko8O"
      },
      "outputs": [],
      "source": [
        "# Esqueleto\n",
        "\n",
        "# \n",
        " \n",
        "def OPT_ALLOC(a,Ga,Gb,b,Dth):\n",
        "    p1 = 0\n",
        "    p2 = max(size(Ga), size(Gb))\n",
        "    D = inf\n",
        "    while D > Dth:\n",
        "        v = (p1+p2)/p2\n",
        "        ˜b =  E B(al,v) # Sumatoria\n",
        "        if ˜b > b:\n",
        "            p2 = v\n",
        "        else:\n",
        "            p1 = v\n",
        "        D = |˜b - b|\n",
        "    xl = EB(al,v)\n",
        "    return xl, ∀l"
      ]
    }
  ]
}