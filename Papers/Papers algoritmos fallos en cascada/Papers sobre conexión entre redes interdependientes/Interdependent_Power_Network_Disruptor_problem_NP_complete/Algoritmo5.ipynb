{
  "nbformat": 4,
  "nbformat_minor": 0,
  "metadata": {
    "colab": {
      "provenance": []
    },
    "kernelspec": {
      "name": "python3",
      "display_name": "Python 3"
    },
    "language_info": {
      "name": "python"
    }
  },
  "cells": [
    {
      "cell_type": "code",
      "source": [
        "%matplotlib inline\n",
        "!pip install igraph\n",
        "\n",
        "import igraph as ig\n",
        "import matplotlib.pyplot as plt"
      ],
      "metadata": {
        "id": "B8hGX04FsWwD"
      },
      "execution_count": null,
      "outputs": []
    },
    {
      "cell_type": "code",
      "execution_count": null,
      "metadata": {
        "id": "G4Ssz9SWdsLY"
      },
      "outputs": [],
      "source": [
        "# Esqueleto\n",
        "\n",
        "# Gs es el grafo de la red S\n",
        "# Gc es el grafo de la red C\n",
        "# Esc son las aristas que conectan ambas redes\n",
        "def maxCas(Gs,Gc,Esx):\n",
        "    T = [] # T es el set de nodos criticos de Vs, con Vs los vertices de S\n",
        "\n",
        "    for i in (len(k)-1):\n",
        "        # As y Ac son los set de nodos de articulación de Gs y Gc, respectivamente\n",
        "        As = articulation_points(Gs)\n",
        "        Ac = articulation_points(Gc)\n",
        "        A = [] # nodo u que esta en Vs tal que u esté en As o ((u,v) este en Esc y v esté en Ac)\n",
        "        ###\n",
        "        for u in vertices(Gs):\n",
        "            if u in As or (v in Ac and (u,v) in Esc):\n",
        "              A.append(u)\n",
        "        ###\n",
        "        if A != None:\n",
        "            u = argmax max-Cas(Gs,T,{u}) # Esta funcion max-Cas es diferente a esta misma función maxCas\n",
        "            T = T + {u} # Se agrega el nodo u a T\n",
        "        else:\n",
        "            # Se elige cualquier nodo de Vs\\T para que sea u\n",
        "            n = random(len(Vs\\T))\n",
        "            u = Vs\\T[n]\n",
        "        Update J[Vs\\T]\n",
        "    return T"
      ]
    },
    {
      "cell_type": "code",
      "source": [
        "# Esqueleto\n",
        "\n",
        "# M es la matriz de caracterizacion\n",
        "# e error allowed\n",
        "\n",
        "def IIC(M,e):\n",
        "    x = 1\n",
        "    error = -infinite # ???\n",
        "    while error > e:\n",
        "      y = M*x\n",
        "      norm = ||y||\n",
        "      y = y/norm\n",
        "      error = ||y-x||\n",
        "      x = y\n",
        "    return x # lo que retorna sería el centrality vector"
      ],
      "metadata": {
        "id": "-SaXmqEs7b8v"
      },
      "execution_count": null,
      "outputs": []
    },
    {
      "cell_type": "code",
      "source": [
        "# Esqueleto\n",
        "\n",
        "# J es un sistema interdependiente Gs, Gc y Esc\n",
        "# K es un entero\n",
        "\n",
        "def IICBased(J,k):\n",
        "    T = []\n",
        "    for i=1 to k:\n",
        "        a = 0.5 # Computar M\n",
        "        e = 10^(-8)\n",
        "        x = ICC(M,e)\n",
        "\n",
        "        u = argmax x[u]\n",
        "        T = T + {u} # Se agrega el nodo u a T\n",
        "        Update J[Vs\\T]\n",
        "    return T # Retorna el set de nodos criticos de Vs"
      ],
      "metadata": {
        "id": "KWZOIFgkH3oa"
      },
      "execution_count": null,
      "outputs": []
    },
    {
      "cell_type": "code",
      "source": [
        "# Esqueleto\n",
        "\n",
        "# J es un sistema interdependiente Gs, Gc y Esc\n",
        "# K es un entero\n",
        "\n",
        "def Hybrid(J,k):\n",
        "    T = []\n",
        "    for i=1 to k:\n",
        "        if i is odd:\n",
        "            Select u as Max-Cas algorithm\n",
        "        else:\n",
        "            Select u as IIC algorithm\n",
        "        \n",
        "        T = T + [u] # Se agrega el nodo u a T\n",
        "        Update J[Vs\\T]\n",
        "    return T"
      ],
      "metadata": {
        "id": "BEsGRhoSJWcc"
      },
      "execution_count": null,
      "outputs": []
    },
    {
      "cell_type": "code",
      "source": [
        "# Quinto algoritmo innecesario de momento, posible implementación luego"
      ],
      "metadata": {
        "id": "fY6m_iL0J39x"
      },
      "execution_count": null,
      "outputs": []
    }
  ]
}