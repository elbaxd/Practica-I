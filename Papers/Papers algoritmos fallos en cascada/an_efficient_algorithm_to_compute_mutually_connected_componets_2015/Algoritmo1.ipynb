{
  "cells": [
    {
      "cell_type": "code",
      "execution_count": null,
      "metadata": {
        "id": "5PvzQw18gjX4"
      },
      "outputs": [],
      "source": [
        "class Grafo:\n",
        " \n",
        "    def __init__(self, vertices):\n",
        "        self.V = vertices  # Número de vértices\n",
        "        self.grafo = []  # Lista vacía para guardar el grafo\n",
        "            \n",
        "    # Se define una función para agrupar los componentes\n",
        "    def components(self):\n",
        "        self.componentes = []\n",
        "        for arista in self.grafo:\n",
        "            for link in self.grafo:\n",
        "                for nodo in arista:\n",
        "                    if nodo in link:\n",
        "                        if arista not in self.componentes:\n",
        "                            self.componentes.append(arista)\n",
        "\n",
        "            \n",
        " \n",
        "    # Definimos la función para agregar aristas, donde u y v son los vertices conectados\n",
        "    def agregarArista(self, u, v):\n",
        "        self.grafo.append([u, v])\n",
        " \n",
        "    # Definimos una función para encontrar el conjunto del elemento i\n",
        "    def encontrar(self, padre, i):\n",
        "        if padre[i] == i:\n",
        "            return i\n",
        "        return self.encontrar(padre, padre[i])\n",
        "\n",
        "    # Se define una función para saber si dos nodos están en el mismo componente\n",
        "    def connected(self, u, w):\n",
        "        if [u,w] in self.grafo or [w,u] in self.grafo:\n",
        "            return True\n",
        "\n",
        "    # Se define una función para eliminar una arista en un componente\n",
        "    def delete(self, arista):\n",
        "        self.grafo.pop(arista)"
      ]
    }
  ],
  "metadata": {
    "colab": {
      "provenance": []
    },
    "kernelspec": {
      "display_name": "Python 3",
      "language": "python",
      "name": "python3"
    },
    "language_info": {
      "name": "python",
      "version": "3.10.9 (tags/v3.10.9:1dd9be6, Dec  6 2022, 20:01:21) [MSC v.1934 64 bit (AMD64)]"
    },
    "vscode": {
      "interpreter": {
        "hash": "afde6861a040563f15a2ec1b440faf84809f9a7bcc3c75cfd11a60e7dd448719"
      }
    }
  },
  "nbformat": 4,
  "nbformat_minor": 0
}
