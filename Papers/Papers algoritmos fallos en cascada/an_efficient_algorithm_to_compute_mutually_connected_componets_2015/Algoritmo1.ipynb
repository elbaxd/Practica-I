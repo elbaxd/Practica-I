{
  "cells": [
    {
      "cell_type": "code",
      "execution_count": 1,
      "metadata": {
        "id": "5PvzQw18gjX4",
        "colab": {
          "base_uri": "https://localhost:8080/"
        },
        "outputId": "42a66906-fe28-4793-c038-0fbb3b0e4005"
      },
      "outputs": [
        {
          "output_type": "stream",
          "name": "stdout",
          "text": [
            "Looking in indexes: https://pypi.org/simple, https://us-python.pkg.dev/colab-wheels/public/simple/\n",
            "Collecting igraph\n",
            "  Downloading igraph-0.10.3-cp38-cp38-manylinux_2_17_x86_64.manylinux2014_x86_64.whl (3.3 MB)\n",
            "\u001b[2K     \u001b[90m━━━━━━━━━━━━━━━━━━━━━━━━━━━━━━━━━━━━━━━━\u001b[0m \u001b[32m3.3/3.3 MB\u001b[0m \u001b[31m21.4 MB/s\u001b[0m eta \u001b[36m0:00:00\u001b[0m\n",
            "\u001b[?25hCollecting texttable>=1.6.2\n",
            "  Downloading texttable-1.6.7-py2.py3-none-any.whl (10 kB)\n",
            "Installing collected packages: texttable, igraph\n",
            "Successfully installed igraph-0.10.3 texttable-1.6.7\n"
          ]
        }
      ],
      "source": [
        "%matplotlib inline\n",
        "!pip install igraph\n",
        "\n",
        "import igraph as ig\n",
        "import matplotlib.pyplot as plt"
      ]
    },
    {
      "cell_type": "code",
      "source": [
        "# A LAYER\n",
        "\n",
        "vertices = 6\n",
        "edges = [(0,1),(0,2),(3,4),(3,5),(4,5)]\n",
        "g = ig.Graph(vertices, edges)\n",
        "\n",
        "\n",
        "g.vs[\"name\"] = [\"A\", \"B\", \"C\", \"D\", \"E\", \"F\"]\n",
        "g.es[\"type\"] = [True, True, True, True, True]\n",
        "\n",
        "g.add_edge(3,1)\n",
        "g.es[len(edges)][\"type\"] = True\n",
        "g.es[3][\"type\"] = True\n",
        "\n",
        "g.delete_edges(len(edges))\n",
        "\n",
        "fig, ax = plt.subplots(figsize=(5,5))\n",
        "ig.plot(\n",
        "    g,\n",
        "    target=ax,\n",
        "    vertex_size=0.1,\n",
        "    vertex_color=[\"steelblue\"],\n",
        "    vertex_frame_width=4.0,\n",
        "    vertex_frame_color=\"white\",\n",
        "    vertex_label=g.vs[\"name\"],\n",
        "    vertex_label_size=20.0,\n",
        "    edge_width=[3 if type else 0.5 for type in g.es[\"type\"]],\n",
        "    edge_color=[\"#7142cf\"]\n",
        ")\n"
      ],
      "metadata": {
        "colab": {
          "base_uri": "https://localhost:8080/",
          "height": 320
        },
        "id": "kvquJj0pQYXG",
        "outputId": "5c925bc1-4e5b-4d01-da38-c94b1691ab9f"
      },
      "execution_count": 35,
      "outputs": [
        {
          "output_type": "execute_result",
          "data": {
            "text/plain": [
              "<matplotlib.axes._subplots.AxesSubplot at 0x7f0e4e73d4f0>"
            ]
          },
          "metadata": {},
          "execution_count": 35
        },
        {
          "output_type": "display_data",
          "data": {
            "text/plain": [
              "<Figure size 360x360 with 1 Axes>"
            ],
            "image/png": "[encoded data removed]"
          },
          "metadata": {}
        }
      ]
    },
    {
      "cell_type": "code",
      "source": [
        "# B LAYER\n",
        "\n",
        "vertices = 6\n",
        "edges = [(0,4),(0,2),(4,5),(3,4)]\n",
        "g = ig.Graph(vertices, edges)\n",
        "\n",
        "\n",
        "g.vs[\"name\"] = [\"A\", \"B\", \"C\", \"D\", \"E\", \"F\"]\n",
        "g.es[\"type\"] = [False, True, True, True, True]\n",
        "\n",
        "g.add_edge(0,1)\n",
        "g.es[len(edges)][\"type\"] = None\n",
        "\n",
        "fig, ax = plt.subplots(figsize=(5,5))\n",
        "ig.plot(\n",
        "    g,\n",
        "    target=ax,\n",
        "    vertex_size=0.1,\n",
        "    vertex_color=[\"steelblue\"],\n",
        "    vertex_frame_width=4.0,\n",
        "    vertex_frame_color=\"white\",\n",
        "    vertex_label=g.vs[\"name\"],\n",
        "    vertex_label_size=20.0,\n",
        "    edge_width=[3 if type else 5 if None else 0.5 for type in g.es[\"type\"]],\n",
        "    edge_color=[\"#7142cf\"]\n",
        ")"
      ],
      "metadata": {
        "colab": {
          "base_uri": "https://localhost:8080/",
          "height": 320
        },
        "id": "e_Shb5xZYXxW",
        "outputId": "aa55171d-6513-47b2-b49f-34c155560d9d"
      },
      "execution_count": 53,
      "outputs": [
        {
          "output_type": "execute_result",
          "data": {
            "text/plain": [
              "<matplotlib.axes._subplots.AxesSubplot at 0x7f0e4e613730>"
            ]
          },
          "metadata": {},
          "execution_count": 53
        },
        {
          "output_type": "display_data",
          "data": {
            "text/plain": [
              "<Figure size 360x360 with 1 Axes>"
            ],
            "image/png": "[encoded data removed]"
          },
          "metadata": {}
        }
      ]
    }
  ],
  "metadata": {
    "colab": {
      "provenance": []
    },
    "kernelspec": {
      "display_name": "Python 3",
      "language": "python",
      "name": "python3"
    },
    "language_info": {
      "name": "python",
      "version": "3.10.9 (tags/v3.10.9:1dd9be6, Dec  6 2022, 20:01:21) [MSC v.1934 64 bit (AMD64)]"
    },
    "vscode": {
      "interpreter": {
        "hash": "afde6861a040563f15a2ec1b440faf84809f9a7bcc3c75cfd11a60e7dd448719"
      }
    }
  },
  "nbformat": 4,
  "nbformat_minor": 0
}