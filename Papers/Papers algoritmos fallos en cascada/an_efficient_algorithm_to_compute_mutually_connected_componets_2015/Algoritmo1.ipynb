{
  "cells": [
    {
      "cell_type": "code",
      "execution_count": null,
      "metadata": {
        "id": "5PvzQw18gjX4"
      },
      "outputs": [],
      "source": [
        "class Grafo:\n",
        " \n",
        "    def __init__(self, vertices):\n",
        "        self.V = vertices  # Número de vértices\n",
        "        self.grafo = []  # Lista vacía para guardar el grafo\n",
        "            \n",
        "    # Se define una función para agrupar los componentes\n",
        "    def components(self):\n",
        "        self.componentes = []\n",
        "        for arista in self.grafo:\n",
        "            for link in self.grafo:\n",
        "                for nodo in arista:\n",
        "                    if nodo in link:\n",
        "                        self.componentes.append(arista)\n",
        "\n",
        "            \n",
        " \n",
        "    # Definimos la función para agregar aristas, donde u y v son los vertices conectados\n",
        "    def agregarArista(self, u, v):\n",
        "        self.grafo.append([u, v])\n",
        " \n",
        "    # Definimos una función para encontrar el conjunto del elemento i\n",
        "    def encontrar(self, padre, i):\n",
        "        if padre[i] == i:\n",
        "            return i\n",
        "        return self.encontrar(padre, padre[i])\n",
        "\n",
        "    # Se define una función para saber si dos nodos están en el mismo componente\n",
        "    def connected(self, u, w):\n",
        "        if [u,w] in self.grafo or [w,u] in self.grafo:\n",
        "            return True\n",
        "\n",
        "    # Se define una función para eliminar una arista en un componente\n",
        "    def delete(self, arista):\n",
        "        self.grafo.pop(arista)"
      ]
    }
  ],
  "metadata": {
    "colab": {
      "provenance": []
    },
    "kernelspec": {
      "display_name": "Python 3",
      "name": "python3"
    },
    "language_info": {
      "name": "python"
    }
  },
  "nbformat": 4,
  "nbformat_minor": 0
}
