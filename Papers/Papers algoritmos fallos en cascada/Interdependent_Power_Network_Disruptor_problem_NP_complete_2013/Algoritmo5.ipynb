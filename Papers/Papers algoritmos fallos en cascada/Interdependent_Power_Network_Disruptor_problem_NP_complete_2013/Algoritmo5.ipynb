{
  "nbformat": 4,
  "nbformat_minor": 0,
  "metadata": {
    "colab": {
      "provenance": []
    },
    "kernelspec": {
      "name": "python3",
      "display_name": "Python 3"
    },
    "language_info": {
      "name": "python"
    }
  },
  "cells": [
    {
      "cell_type": "code",
      "execution_count": null,
      "metadata": {
        "id": "G4Ssz9SWdsLY"
      },
      "outputs": [],
      "source": [
        "# Esqueleto\n",
        "\n",
        "# Gs es el grafo de la red S\n",
        "# Gc es el grafo de la red C\n",
        "# Esc son las aristas que conectan ambas redes\n",
        "def maxCas(Gs,Gc,Esx):\n",
        "    T = [] # T es el set de nodos criticos de Vs"
      ]
    }
  ]
}