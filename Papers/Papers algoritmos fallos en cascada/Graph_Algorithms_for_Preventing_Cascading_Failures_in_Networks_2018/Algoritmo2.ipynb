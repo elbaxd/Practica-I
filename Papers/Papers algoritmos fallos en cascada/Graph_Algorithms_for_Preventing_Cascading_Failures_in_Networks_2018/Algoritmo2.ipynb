{
  "nbformat": 4,
  "nbformat_minor": 0,
  "metadata": {
    "colab": {
      "provenance": []
    },
    "kernelspec": {
      "name": "python3",
      "display_name": "Python 3"
    },
    "language_info": {
      "name": "python"
    }
  },
  "cells": [
    {
      "cell_type": "code",
      "execution_count": null,
      "metadata": {
        "colab": {
          "base_uri": "https://localhost:8080/"
        },
        "id": "TthNjF1qRZ1d",
        "outputId": "ee85a834-89e0-4ca8-a0e4-d34c7c9b9e05"
      },
      "outputs": [
        {
          "output_type": "stream",
          "name": "stdout",
          "text": [
            "Looking in indexes: https://pypi.org/simple, https://us-python.pkg.dev/colab-wheels/public/simple/\n",
            "Collecting igraph\n",
            "  Downloading igraph-0.10.3-cp38-cp38-manylinux_2_17_x86_64.manylinux2014_x86_64.whl (3.3 MB)\n",
            "\u001b[2K     \u001b[90m━━━━━━━━━━━━━━━━━━━━━━━━━━━━━━━━━━━━━━━━\u001b[0m \u001b[32m3.3/3.3 MB\u001b[0m \u001b[31m28.2 MB/s\u001b[0m eta \u001b[36m0:00:00\u001b[0m\n",
            "\u001b[?25hCollecting texttable>=1.6.2\n",
            "  Downloading texttable-1.6.7-py2.py3-none-any.whl (10 kB)\n",
            "Installing collected packages: texttable, igraph\n",
            "Successfully installed igraph-0.10.3 texttable-1.6.7\n"
          ]
        }
      ],
      "source": [
        "%matplotlib inline\n",
        "!pip install igraph\n",
        "\n",
        "import igraph as ig\n",
        "import matplotlib.pyplot as plt"
      ]
    },
    {
      "cell_type": "code",
      "source": [
        "vertices = 13\n",
        "edges = [(0,1),(2,1),(1,3),(3,4),(3,5),(5,6),(3,7),(7,8),(8,9),(8,10),(8,11),(11,12)]\n",
        "G13 = ig.Graph(vertices, edges)\n",
        "\n",
        "\n",
        "G13.vs[\"name\"] = [\"0\", \"1\", \"2\", \"3\", \"4\", \"5\", \"6\", \"7\", \"8\", \"9\", \"10\", \"11\", \"12\"]\n",
        "\n",
        "\n",
        "\n",
        "# Plot in matplotlib\n",
        "# Note that attributes can be set globally (e.g. vertex_size), or set individually using arrays (e.g. vertex_color)\n",
        "fig, ax = plt.subplots(figsize=(5,5))\n",
        "ig.plot(\n",
        "    G13,\n",
        "    target=ax,\n",
        "    #layout=\"\", # print nodes in a circular layout\n",
        "    vertex_size=0.1,\n",
        "    vertex_color=[\"steelblue\"],\n",
        "    vertex_frame_width=4.0,\n",
        "    vertex_frame_color=\"white\",\n",
        "    vertex_label=G13.vs[\"name\"],\n",
        "    vertex_label_size=20.0,\n",
        "    edge_width=[2],\n",
        "    edge_color=[\"#7142cf\"]\n",
        ")\n",
        "\n",
        "layout = G13.layout(layout='auto')\n",
        "\n",
        "Vc = layout.centroid()\n",
        "\n",
        "print(Vc)\n",
        "\n",
        "G13.delete_vertices(3)\n",
        "\n",
        "# Plot in matplotlib\n",
        "# Note that attributes can be set globally (e.g. vertex_size), or set individually using arrays (e.g. vertex_color)\n",
        "fig, ax = plt.subplots(figsize=(5,5))\n",
        "ig.plot(\n",
        "    G13,\n",
        "    target=ax,\n",
        "    #layout=\"\", # print nodes in a circular layout\n",
        "    vertex_size=0.1,\n",
        "    vertex_color=[\"steelblue\"],\n",
        "    vertex_frame_width=4.0,\n",
        "    vertex_frame_color=\"white\",\n",
        "    vertex_label=G13.vs[\"name\"],\n",
        "    vertex_label_size=20.0,\n",
        "    edge_width=[2],\n",
        "    edge_color=[\"#7142cf\"]\n",
        ")"
      ],
      "metadata": {
        "colab": {
          "base_uri": "https://localhost:8080/",
          "height": 624
        },
        "id": "aXk0GCvewblQ",
        "outputId": "1a945279-7067-4fa9-8cfd-f1d836a158f2"
      },
      "execution_count": null,
      "outputs": [
        {
          "output_type": "stream",
          "name": "stdout",
          "text": [
            "[0.059069199848943696, 0.061711652227707886]\n"
          ]
        },
        {
          "output_type": "execute_result",
          "data": {
            "text/plain": [
              "<matplotlib.axes._subplots.AxesSubplot at 0x7f0d47d24a30>"
            ]
          },
          "metadata": {},
          "execution_count": 20
        },
        {
          "output_type": "display_data",
          "data": {
            "text/plain": [
              "<Figure size 360x360 with 1 Axes>"
            ],
            "image/png": "[encoded data removed]"
          },
          "metadata": {}
        },
        {
          "output_type": "display_data",
          "data": {
            "text/plain": [
              "<Figure size 360x360 with 1 Axes>"
            ],
            "image/png": "[encoded data removed]"
          },
          "metadata": {}
        }
      ]
    },
    {
      "cell_type": "code",
      "source": [
        "currentLV = 0\n",
        "\n",
        "# Se define la funcion para el descomponer segun los centroids de un arbol, con T el arbol, currentLV el nivel del vertices en el que se hace \n",
        "# y Vc el vertice centroid\n",
        "def centroidDescomposition(T,currentLV,Vc):\n",
        "    currentLV +=1\n",
        "    vclv = currentLV\n",
        "    T.delete(Vc) # Se remueve el vertice Vc del arbol T, para crear subarboles\n",
        "    \n",
        "    \n",
        "\n",
        "    verticesTC = verticesTC.append(Vc) # Con verticesTC los vertices del arbol que se genero gracias al centroid\n",
        "    if vclv != 1:\n",
        "        aristasTC = aristasTC.append((Vc,))\n",
        "\n"
      ],
      "metadata": {
        "id": "bo1WIhxdSO56"
      },
      "execution_count": null,
      "outputs": []
    },
    {
      "cell_type": "code",
      "source": [
        "# ESQUELETO\n",
        "\n",
        "# Se comienza con currentLV = 0\n",
        "\n",
        "currentLV = 0\n",
        "\n",
        "def centroidDecomposition(T,currentLV,Vpc):\n",
        "    # Se le suma 1 a currentLV\n",
        "    currentLV +=1\n",
        "    # Se debe sacar el centroid de T\n",
        "    Vc = T.centroid()\n",
        "    # Se actualiza el LV del centroid\n",
        "    Vc.lv = currentLV\n",
        "    # Luego se debe descomponer el grafo o arbol T, eliminando Vc de T\n",
        "    T.delete_vertices(Vc)\n",
        "\n",
        "\n",
        "    # Después, se agrega el Vc a los vertices del nuevo arbol centroid\n",
        "    Tc.add_vertice(Vc)\n",
        "\n",
        "    # Se revisa que el lv del Vc no sea 1, si no lo es , se agrega una arista\n",
        "    if Vc.lv != 1:\n",
        "        Tc.add_edge((Vpc,Vc))\n",
        "    \n",
        "    # Se comienza la iteración y recursividad\n",
        "    for Tree in components(T):\n",
        "        if k > 1:\n",
        "            centroidDecomposition(Tree, currentLV,Vc)\n",
        "        else:\n",
        "            V.lv = currentLV+1 # Con V los vertices del Tree actual\n",
        "            Tc.add_vertice(v)\n",
        "            Tc.add_edge((v,Vpc))"
      ],
      "metadata": {
        "id": "oB-l_yErsX-o"
      },
      "execution_count": null,
      "outputs": []
    },
    {
      "cell_type": "code",
      "source": [
        "# ESQUELETO\n",
        "\n",
        "def constructVP(Tc,k,Vp={}):\n",
        "    # Se crean sub arboles de Tc, según cada vertice\n",
        "    for vertice in vertices(Tc):\n",
        "      Tc.subTree()\n",
        "    # Luego se ordenan los sub arboles\n",
        "    for i = 1...k:\n",
        "        Vp = Vp.add_vertices(Sortv(i))"
      ],
      "metadata": {
        "id": "Y9bX5fe_GqkT"
      },
      "execution_count": null,
      "outputs": []
    }
  ]
}