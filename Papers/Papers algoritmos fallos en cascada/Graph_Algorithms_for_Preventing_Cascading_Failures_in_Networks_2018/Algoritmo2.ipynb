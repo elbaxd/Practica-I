{
  "nbformat": 4,
  "nbformat_minor": 0,
  "metadata": {
    "colab": {
      "provenance": []
    },
    "kernelspec": {
      "name": "python3",
      "display_name": "Python 3"
    },
    "language_info": {
      "name": "python"
    }
  },
  "cells": [
    {
      "cell_type": "code",
      "execution_count": 1,
      "metadata": {
        "colab": {
          "base_uri": "https://localhost:8080/"
        },
        "id": "TthNjF1qRZ1d",
        "outputId": "2013acc5-7045-410a-8ffc-2046f006f9f3"
      },
      "outputs": [
        {
          "output_type": "stream",
          "name": "stdout",
          "text": [
            "Looking in indexes: https://pypi.org/simple, https://us-python.pkg.dev/colab-wheels/public/simple/\n",
            "Collecting igraph\n",
            "  Downloading igraph-0.10.3-cp38-cp38-manylinux_2_17_x86_64.manylinux2014_x86_64.whl (3.3 MB)\n",
            "\u001b[2K     \u001b[90m━━━━━━━━━━━━━━━━━━━━━━━━━━━━━━━━━━━━━━━━\u001b[0m \u001b[32m3.3/3.3 MB\u001b[0m \u001b[31m39.0 MB/s\u001b[0m eta \u001b[36m0:00:00\u001b[0m\n",
            "\u001b[?25hCollecting texttable>=1.6.2\n",
            "  Downloading texttable-1.6.7-py2.py3-none-any.whl (10 kB)\n",
            "Installing collected packages: texttable, igraph\n",
            "Successfully installed igraph-0.10.3 texttable-1.6.7\n"
          ]
        }
      ],
      "source": [
        "%matplotlib inline\n",
        "!pip install igraph\n",
        "\n",
        "import igraph as ig\n",
        "import matplotlib.pyplot as plt"
      ]
    },
    {
      "cell_type": "code",
      "source": [
        "vertices = 13\n",
        "edges = [(0,1),(2,1),(1,3),(3,4),(3,5),(5,6),(3,7),(7,8),(8,9),(8,10),(8,11),(11,12)]\n",
        "G13 = ig.Graph(vertices, edges)\n",
        "\n",
        "\n",
        "G13.vs[\"name\"] = [\"0\", \"1\", \"2\", \"3\", \"4\", \"5\", \"6\", \"7\", \"8\", \"9\", \"10\", \"11\", \"12\"]\n",
        "# Plot in matplotlib\n",
        "# Note that attributes can be set globally (e.g. vertex_size), or set individually using arrays (e.g. vertex_color)\n",
        "fig, ax = plt.subplots(figsize=(5,5))\n",
        "ig.plot(\n",
        "    G13,\n",
        "    target=ax,\n",
        "    layout=\"circle\", # print nodes in a circular layout\n",
        "    vertex_size=0.1,\n",
        "    vertex_color=[\"steelblue\"],\n",
        "    vertex_frame_width=4.0,\n",
        "    vertex_frame_color=\"white\",\n",
        "    vertex_label=G13.vs[\"name\"],\n",
        "    vertex_label_size=20.0,\n",
        "    edge_width=[2],\n",
        "    edge_color=[\"#7142cf\"]\n",
        ")"
      ],
      "metadata": {
        "colab": {
          "base_uri": "https://localhost:8080/",
          "height": 320
        },
        "id": "aXk0GCvewblQ",
        "outputId": "44e38827-e80d-4930-e2fc-f33d0c89c328"
      },
      "execution_count": 9,
      "outputs": [
        {
          "output_type": "execute_result",
          "data": {
            "text/plain": [
              "<matplotlib.axes._subplots.AxesSubplot at 0x7f4ac3da4b50>"
            ]
          },
          "metadata": {},
          "execution_count": 9
        },
        {
          "output_type": "display_data",
          "data": {
            "text/plain": [
              "<Figure size 360x360 with 1 Axes>"
            ],
            "image/png": "[encoded data removed]"
          },
          "metadata": {}
        }
      ]
    },
    {
      "cell_type": "code",
      "source": [
        "currentLV = 0\n",
        "\n",
        "# Se define la funcion para el descomponer segun los centroids de un arbol, con T el arbol, currentLV el nivel del vertices en el que se hace \n",
        "# y Vc el vertice centroid\n",
        "def centroidDescomposition(T,currentLV,Vc):\n",
        "    currentLV +=1\n",
        "    vclv = currentLV\n",
        "    T.delete(Vc) # Se remueve el vertice Vc del arbol T, para crear subarboles\n",
        "    \n",
        "    \n",
        "\n",
        "    verticesTC = verticesTC.append(Vc) # Con verticesTC los vertices del arbol que se genero gracias al centroid\n",
        "    if vclv != 1:\n",
        "        aristasTC = aristasTC.append((Vc,))\n",
        "\n"
      ],
      "metadata": {
        "id": "bo1WIhxdSO56"
      },
      "execution_count": null,
      "outputs": []
    },
    {
      "cell_type": "code",
      "source": [],
      "metadata": {
        "id": "oB-l_yErsX-o"
      },
      "execution_count": null,
      "outputs": []
    }
  ]
}