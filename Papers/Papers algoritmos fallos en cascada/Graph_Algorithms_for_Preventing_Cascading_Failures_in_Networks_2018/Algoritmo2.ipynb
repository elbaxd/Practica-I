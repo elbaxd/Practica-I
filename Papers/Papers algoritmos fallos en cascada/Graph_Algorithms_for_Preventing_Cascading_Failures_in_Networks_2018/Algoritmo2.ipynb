{
  "nbformat": 4,
  "nbformat_minor": 0,
  "metadata": {
    "colab": {
      "provenance": []
    },
    "kernelspec": {
      "name": "python3",
      "display_name": "Python 3"
    },
    "language_info": {
      "name": "python"
    }
  },
  "cells": [
    {
      "cell_type": "code",
      "execution_count": null,
      "metadata": {
        "colab": {
          "base_uri": "https://localhost:8080/"
        },
        "id": "TthNjF1qRZ1d",
        "outputId": "618877d9-3bad-42cf-9654-cdbb51bd692c"
      },
      "outputs": [
        {
          "output_type": "stream",
          "name": "stdout",
          "text": [
            "Looking in indexes: https://pypi.org/simple, https://us-python.pkg.dev/colab-wheels/public/simple/\n",
            "Collecting igraph\n",
            "  Downloading igraph-0.10.3-cp38-cp38-manylinux_2_17_x86_64.manylinux2014_x86_64.whl (3.3 MB)\n",
            "\u001b[2K     \u001b[90m━━━━━━━━━━━━━━━━━━━━━━━━━━━━━━━━━━━━━━━━\u001b[0m \u001b[32m3.3/3.3 MB\u001b[0m \u001b[31m34.0 MB/s\u001b[0m eta \u001b[36m0:00:00\u001b[0m\n",
            "\u001b[?25hCollecting texttable>=1.6.2\n",
            "  Downloading texttable-1.6.7-py2.py3-none-any.whl (10 kB)\n",
            "Installing collected packages: texttable, igraph\n",
            "Successfully installed igraph-0.10.3 texttable-1.6.7\n"
          ]
        }
      ],
      "source": [
        "%matplotlib inline\n",
        "!pip install igraph\n",
        "\n",
        "import igraph as ig\n",
        "import matplotlib.pyplot as plt"
      ]
    },
    {
      "cell_type": "code",
      "source": [
        "GN = [] # Underlying Network, all susceptible vertices\n",
        "\n",
        "Gn = [] # Vertices addected by cascading failure\n",
        "\n",
        "Vp = [] # Selected vertices to protect\n",
        "\n",
        "currentLV = 0\n",
        "\n",
        "# Se define la funcion para el descomponer segun los centroids de un arbol, con T el arbol, currentLV el nivel del vertices en el que se hace \n",
        "# y Vc el vertice centroid\n",
        "def centroidDescomposition(T,currentLV,Vc):\n",
        "    currentLV +=1\n",
        "    vclv = currentLV\n",
        "    verticesTC = verticesTC.append(Vc) # Con verticesTC los vertices del arbol que se genero gracias al centroid\n",
        "    if vclv != 1:\n",
        "        aristasTC = aristasTC.append((Vc,))\n",
        "\n"
      ],
      "metadata": {
        "id": "bo1WIhxdSO56"
      },
      "execution_count": null,
      "outputs": []
    }
  ]
}